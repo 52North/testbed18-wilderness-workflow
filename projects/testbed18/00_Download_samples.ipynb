{
 "cells": [
  {
   "cell_type": "markdown",
   "id": "66f2063a",
   "metadata": {},
   "source": [
    "# Download samples\n",
    "## Imports"
   ]
  },
  {
   "cell_type": "code",
   "execution_count": null,
   "id": "cf3591d9",
   "metadata": {},
   "outputs": [],
   "source": [
    "import sys\n",
    "sys.path.append('/home/jovyan/work/workspace')"
   ]
  },
  {
   "cell_type": "code",
   "execution_count": 8,
   "id": "5e6af161",
   "metadata": {},
   "outputs": [
    {
     "name": "stdout",
     "output_type": "stream",
     "text": [
      "The autoreload extension is already loaded. To reload it, use:\n",
      "  %reload_ext autoreload\n"
     ]
    }
   ],
   "source": [
    "import os\n",
    "import rasterio\n",
    "\n",
    "from projects.testbed18 import config\n",
    "from api_coverages import get_coverage\n",
    "\n",
    "%load_ext autoreload\n",
    "%autoreload 2"
   ]
  },
  {
   "cell_type": "markdown",
   "id": "c5b6c86e",
   "metadata": {},
   "source": [
    "## Configuration"
   ]
  },
  {
   "cell_type": "code",
   "execution_count": 19,
   "id": "795abf32",
   "metadata": {},
   "outputs": [
    {
     "name": "stdout",
     "output_type": "stream",
     "text": [
      "File will be saved to /home/martin/Projekte/OGC_Testbed-18/data/anthroprotect/samples/s2_investigative_20.27_66.45_20.39_66.57.tif\n"
     ]
    }
   ],
   "source": [
    "#collection = 's2_anthropo'\n",
    "collection = 's2_investigative'\n",
    "\n",
    "#bbox = [16.7, 59.7, 16.825, 59.825] # -> 1250 x 1250 pixels\n",
    "#bbox = [16.8, 59.8, 16.8251, 59.825] # -> 250 x 250 pixels\n",
    "#bbox = [20.27080771398277, 66.45825882626778, 20.495119661234394, 66.55002311657806] # paper figure 8\n",
    "#bbox = [10.434810477469897, 62.019114499434934, 10.836427562826682, 62.1989645072601] # paper figure 9 (2017)\n",
    "#bbox = [10.434810477469897, 62.019114499434934, 10.836427562826682, 62.1989645072601] # paper figure 9 (2020)\n",
    "#bbox = [26.12659400833689, 65.34754243953564, 26.341300676504012, 65.43979470854401] # paper figure 10\n",
    "bbox = [20.27, 66.45, 20.39, 66.57]\n",
    "\n",
    "bands = None  # e.g.'blue, green, red'\n",
    "\n",
    "out_file = config.data_folder + '/samples/' + collection \\\n",
    "           + '_{}_{}_{}_{}'.format(bbox[0], bbox[1], bbox[2], bbox[3]) + '.tif'\n",
    "print('File will be saved to {}'.format(out_file))"
   ]
  },
  {
   "cell_type": "markdown",
   "id": "9a6aa114",
   "metadata": {},
   "source": [
    "## Download data from API Coverages"
   ]
  },
  {
   "cell_type": "code",
   "execution_count": 6,
   "id": "7c99fc5c",
   "metadata": {},
   "outputs": [
    {
     "name": "stdout",
     "output_type": "stream",
     "text": [
      "Requesting coverage from 'https://18.testbed.dev.52north.org/geodatacube/collections/s2_investigative/coverage?f=GeoTIFF&bbox=20.27,66.45,20.39,66.57'\n"
     ]
    }
   ],
   "source": [
    "collection_url = config.server_url + 'collections/' +collection\n",
    "result = get_coverage(collection_url, bbox, bands)\n",
    "dataset = rasterio.open(result)\n",
    "#channel_names = dataset.descriptions\n",
    "#images = dataset.read()"
   ]
  },
  {
   "cell_type": "markdown",
   "id": "3eb2954f",
   "metadata": {},
   "source": [
    "## Save file"
   ]
  },
  {
   "cell_type": "code",
   "execution_count": 18,
   "id": "5a3049dc",
   "metadata": {},
   "outputs": [],
   "source": [
    "profile = tif.profile\n",
    "\n",
    "with rasterio.open(out_file, 'w', **profile) as dst:\n",
    "    dst.write(tif.read())"
   ]
  }
 ],
 "metadata": {
  "kernelspec": {
   "display_name": "Python 3 (ipykernel)",
   "language": "python",
   "name": "python3"
  },
  "language_info": {
   "codemirror_mode": {
    "name": "ipython",
    "version": 3
   },
   "file_extension": ".py",
   "mimetype": "text/x-python",
   "name": "python",
   "nbconvert_exporter": "python",
   "pygments_lexer": "ipython3",
   "version": "3.10.6"
  }
 },
 "nbformat": 4,
 "nbformat_minor": 5
}
