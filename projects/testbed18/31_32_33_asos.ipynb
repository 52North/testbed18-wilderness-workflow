{
 "cells": [
  {
   "cell_type": "markdown",
   "metadata": {},
   "source": [
    "# ASOS\n",
    "## Imports"
   ]
  },
  {
   "cell_type": "code",
   "execution_count": null,
   "metadata": {},
   "outputs": [],
   "source": [
    "import os\n",
    "\n",
    "src_dir = os.path.expanduser(os.environ.get('SRC_DIR', '/home/martin/Projekte/OGC_Testbed-18/software/testbed18-wilderness-workflow'))\n",
    "os.chdir(src_dir)\n",
    "\n",
    "import random\n",
    "import matplotlib.pyplot as plt\n",
    "\n",
    "from tlib import tlearn, ttorch, tutils\n",
    "from projects.asos import config, utils\n",
    "\n",
    "%load_ext autoreload\n",
    "%autoreload 2"
   ]
  },
  {
   "cell_type": "code",
   "execution_count": null,
   "metadata": {},
   "outputs": [],
   "source": [
    "fi = utils.load_file_infos()"
   ]
  },
  {
   "cell_type": "markdown",
   "metadata": {},
   "source": [
    "## Setup ASOS"
   ]
  },
  {
   "cell_type": "code",
   "execution_count": null,
   "metadata": {},
   "outputs": [],
   "source": [
    "# setup asos performer\n",
    "dims = utils.load_trainer().model.unet.conv_out.out_channels  # number of unet activation maps\n",
    "use_hypercube = True  # hypercube method (True) or expectation maximization (False)\n",
    "\n",
    "\n",
    "output_folder = tutils.files.join_paths(utils.load_trainer().log_dir, 'asos')\n",
    "\n",
    "if use_hypercube:\n",
    "    if dims == 1:\n",
    "        asos = tlearn.interpret.asos.ASOSPerformer1d(ax_range=(-1, 1), output_folder=output_folder)\n",
    "    elif dims == 2:\n",
    "        asos = tlearn.interpret.asos.ASOSPerformer2d(ax_range=(-1, 1), output_folder=output_folder)\n",
    "    elif dims == 3:\n",
    "        asos = tlearn.interpret.asos.ASOSPerformer3d(ax_range=(-1, 1), output_folder=output_folder)\n",
    "\n",
    "else:\n",
    "    if dims == 1:\n",
    "        asos = tlearn.interpret.asos.ASOSPerformerEM1d(ax_range=(-1, 1), output_folder=output_folder)\n",
    "    elif dims == 2:\n",
    "        asos = tlearn.interpret.asos.ASOSPerformerEM2d(ax_range=(-1, 1), output_folder=output_folder)\n",
    "    elif dims == 3:\n",
    "        asos = tlearn.interpret.asos.ASOSPerformerEM3d(ax_range=(-1, 1), output_folder=output_folder)\n",
    "\n",
    "asos.save()  # save asos with pickle"
   ]
  },
  {
   "cell_type": "code",
   "execution_count": null,
   "metadata": {},
   "outputs": [],
   "source": [
    "# Check content\n",
    "asos.output_folder"
   ]
  },
  {
   "cell_type": "code",
   "execution_count": null,
   "metadata": {},
   "outputs": [],
   "source": [
    "# Check problem with folder\n",
    "trainer = utils.load_trainer()\n",
    "\n",
    "print('used:', trainer.datamodule.folder)\n",
    "# /home/timo/data/anthroprotect/tiles/s2\n",
    "print('should be used as defined in config:', config.data_folder_tiles)\n",
    "# -> when the trainer is loaded from checkpoint_5.pt it's datamodule.folder attribute is set to the one used \n",
    "#    in training which might be a different one used in later analysis"
   ]
  },
  {
   "cell_type": "markdown",
   "metadata": {},
   "source": [
    "## Vectorization"
   ]
  },
  {
   "cell_type": "code",
   "execution_count": null,
   "metadata": {},
   "outputs": [],
   "source": [
    "# get unet maps\n",
    "files = fi.df[(fi.df['datasplit'] == 'train') & (fi.df['correct'])].index.to_list()\n",
    "print(len(files))\n",
    "\n",
    "# get only a random fraction of unet maps\n",
    "if config.dataset == 'anthroprotect':\n",
    "    frac_unet_maps = 0.05\n",
    "    #frac_unet_maps = 0.25\n",
    "elif config.dataset == 'places':\n",
    "    frac_unet_maps = 0.5\n",
    "\n",
    "random_indices = random.sample(range(0, len(files)), int(len(files) * frac_unet_maps))\n",
    "files = [files[index] for index in random_indices]\n",
    "print(len(files))\n",
    "\n",
    "# Prepend path (see cell above for problem with folder)\n",
    "files = [os.path.join(config.data_folder_tiles, file) for file in files]\n",
    "\n",
    "unet_maps = utils.predict_activation_maps(*files)\n",
    "\n",
    "# vectorize\n",
    "random_frac = 1/1000\n",
    "asos.vectorize(maps=unet_maps, map_ids=files, frame_size=10, random_frac=random_frac)\n",
    "#asos.vectorize(maps=unet_maps, map_ids=files, frame_size=10, random_frac=random_frac, random_seed)\n",
    "asos.save()  # save asos with pickle\n",
    "\n",
    "del unet_maps"
   ]
  },
  {
   "cell_type": "code",
   "execution_count": null,
   "metadata": {},
   "outputs": [],
   "source": [
    "%matplotlib inline\n",
    "if asos.dims in [1, 2]:\n",
    "    asos.plot_chspace()\n",
    "    plt.show()"
   ]
  },
  {
   "cell_type": "code",
   "execution_count": null,
   "metadata": {},
   "outputs": [],
   "source": [
    "%matplotlib widget\n",
    "if asos.dims == 3:\n",
    "    asos.plot_chspace(colors='rgb')  # colors=None to not color vectors in rgb\n",
    "    plt.show()"
   ]
  },
  {
   "cell_type": "markdown",
   "metadata": {},
   "source": [
    "## Groups"
   ]
  },
  {
   "cell_type": "code",
   "execution_count": null,
   "metadata": {},
   "outputs": [],
   "source": [
    "# define groups\n",
    "if use_hypercube:\n",
    "    \n",
    "    if config.dataset in ['anthroprotect', 'places']:\n",
    "        edge_length = 2/20  # 2/20 2/10 2/2\n",
    "        consider_factor = 2\n",
    "    \n",
    "    asos.fit_groups(edge_length=edge_length, consider_factor=consider_factor)\n",
    "else:\n",
    "    asos.fit_groups(n_groups=3)\n",
    "\n",
    "asos.save()  # save asos with pickle"
   ]
  },
  {
   "cell_type": "code",
   "execution_count": null,
   "metadata": {},
   "outputs": [],
   "source": [
    "%matplotlib inline\n",
    "if asos.dims in [1, 2]:\n",
    "    asos.plot_chspace(colors='groups')\n",
    "    plt.show()"
   ]
  },
  {
   "cell_type": "code",
   "execution_count": null,
   "metadata": {},
   "outputs": [],
   "source": [
    "%matplotlib widget\n",
    "if asos.dims == 3:\n",
    "    asos.plot_chspace(colors='groups')\n",
    "    plt.show()"
   ]
  },
  {
   "cell_type": "markdown",
   "metadata": {},
   "source": [
    "## Sensitivities"
   ]
  },
  {
   "cell_type": "code",
   "execution_count": null,
   "metadata": {},
   "outputs": [],
   "source": [
    "# we cannot predict all unet-maps as follows at this point, because this would cause a memory overflow for the many training data:\n",
    "# files = fi[(fi['dataset'] == 'train') & (fi['correct'])].index.to_list()\n",
    "# unet_maps = utils.predict(*files)\n",
    "# instead we define an object, that behaves like a list using __getitem__:\n",
    "\n",
    "class UNetMaps:\n",
    "    def __init__(self):\n",
    "        trainer = utils.load_trainer()\n",
    "        self.dataset = trainer.datamodule.train_dataset\n",
    "        \n",
    "        # Fix file paths\n",
    "        trainer.datamodule.train_dataset.files = [os.path.join(config.data_folder_tiles, os.path.basename(file)) for file in trainer.datamodule.train_dataset.files]\n",
    "        #print(trainer.datamodule.train_dataset.files[0])\n",
    "        \n",
    "        self.dataset.eval()\n",
    "        self.unet = ttorch.modules.wrapper.AutoMoveData(trainer.model.unet)\n",
    "    \n",
    "    def __getitem__(self, index):\n",
    "        x = self.dataset[index]['x']\n",
    "        unet_map = self.unet(x.unsqueeze(0)).detach().cpu()[0]\n",
    "        return unet_map\n",
    "    \n",
    "    def __len__(self):\n",
    "        return len(self.dataset)\n",
    "\n",
    "unet_maps = UNetMaps()\n",
    "\n",
    "print(unet_maps.dataset.files[0])\n",
    "# Subset of maps\n",
    "unet_maps.dataset.files = unet_maps.dataset.files[0:100]"
   ]
  },
  {
   "cell_type": "code",
   "execution_count": null,
   "metadata": {},
   "outputs": [],
   "source": [
    "unet_maps[0]"
   ]
  },
  {
   "cell_type": "code",
   "execution_count": null,
   "metadata": {},
   "outputs": [],
   "source": [
    "import numpy as np\n",
    "plt.imshow(((np.array(unet_maps[0])+1)/2).transpose(1, 2, 0))"
   ]
  },
  {
   "cell_type": "code",
   "execution_count": null,
   "metadata": {},
   "outputs": [],
   "source": [
    "%matplotlib inline\n",
    "\n",
    "# get model\n",
    "model = utils.load_trainer().model.classify_unet_map\n",
    "\n",
    "# Note: this step takes  ~6 hours\n",
    "# fit sensitivities\n",
    "#asos.fit_sensitivities(maps=unet_maps, model=model, fill_value=0, move_data_to_gpu=True)\n",
    "asos.fit_sensitivities(maps=unet_maps, model=model, fill_value=0, move_data_to_gpu=True)\n",
    "asos.save()  # save asos with pickle"
   ]
  },
  {
   "cell_type": "code",
   "execution_count": null,
   "metadata": {},
   "outputs": [],
   "source": [
    "# adapt valid deviations\n",
    "\n",
    "if config.dataset == 'anthroprotect':\n",
    "    min_n_occluded_pixels = 10\n",
    "    q = 0.02\n",
    "elif config.dataset == 'places':\n",
    "    min_n_occluded_pixels = 10\n",
    "    q = 0.001\n",
    "    \n",
    "# only those deviations are taken for further calculations that were calculated from at least min_n_occluded_pixels when occluding a map\n",
    "asos.adapt_valid_deviations(min_n_occluded_pixels=min_n_occluded_pixels)\n",
    "\n",
    "asos.set_vlim(q=q)\n",
    "asos.save()  # save asos with pickle"
   ]
  },
  {
   "cell_type": "code",
   "execution_count": null,
   "metadata": {},
   "outputs": [],
   "source": [
    "%matplotlib inline\n",
    "asos.plot_histograms()"
   ]
  },
  {
   "cell_type": "code",
   "execution_count": null,
   "metadata": {},
   "outputs": [],
   "source": [
    "%matplotlib inline\n",
    "if asos.dims in [1, 2]:\n",
    "    asos.plot_chspace(colors='sensitivities')\n",
    "    plt.show()"
   ]
  },
  {
   "cell_type": "code",
   "execution_count": null,
   "metadata": {},
   "outputs": [],
   "source": [
    "%matplotlib widget\n",
    "if asos.dims == 3:\n",
    "    asos.plot_chspace(colors='sensitivities')\n",
    "    plt.show()"
   ]
  },
  {
   "cell_type": "code",
   "execution_count": null,
   "metadata": {},
   "outputs": [],
   "source": [
    "%matplotlib inline\n",
    "# plot sample\n",
    "index = 99\n",
    "sensitivity_map = asos.predict_sensitivities(unet_maps[index].unsqueeze(0))[0]\n",
    "asos.plot_sensitivity_map(sensitivity_map)\n",
    "plt.show()"
   ]
  },
  {
   "cell_type": "code",
   "execution_count": null,
   "metadata": {},
   "outputs": [],
   "source": []
  }
 ],
 "metadata": {
  "interpreter": {
   "hash": "62e27c2e420dc4faf88ce14df8df3e50c59d614fe7cb94f58ee82082f4e3c253"
  },
  "kernelspec": {
   "display_name": "Python 3 (ipykernel)",
   "language": "python",
   "name": "python3"
  },
  "language_info": {
   "codemirror_mode": {
    "name": "ipython",
    "version": 3
   },
   "file_extension": ".py",
   "mimetype": "text/x-python",
   "name": "python",
   "nbconvert_exporter": "python",
   "pygments_lexer": "ipython3",
   "version": "3.8.10"
  }
 },
 "nbformat": 4,
 "nbformat_minor": 4
}
